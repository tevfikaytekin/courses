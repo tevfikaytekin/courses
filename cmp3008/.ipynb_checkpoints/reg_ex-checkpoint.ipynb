{
 "cells": [
  {
   "cell_type": "markdown",
   "metadata": {},
   "source": [
    "### Example Regular Expressions with Python"
   ]
  },
  {
   "cell_type": "code",
   "execution_count": null,
   "metadata": {
    "colab": {
     "base_uri": "https://localhost:8080/"
    },
    "executionInfo": {
     "elapsed": 496,
     "status": "ok",
     "timestamp": 1680591211241,
     "user": {
      "displayName": "Tevfik Aytekin",
      "userId": "03705756795675396046"
     },
     "user_tz": -180
    },
    "id": "pUxG84OvwUj7",
    "outputId": "7a87e3a1-5a2f-4827-d965-c8e937356939"
   },
   "outputs": [
    {
     "name": "stdout",
     "output_type": "stream",
     "text": [
      "The rain 10 in 3.14 Spain +12.4 random 1. ano3ther random random .1 ok that is the end\n",
      "Formal languages and automata theory theory course starts on 12/01/2020 Friday.\n",
      "It will end on 12.12.2021 email me at tevfik.aytekin@eng.bau.edu.tr\n",
      "john@gmail.com\n",
      "\n"
     ]
    }
   ],
   "source": [
    "import re\n",
    "\n",
    "text = '''The rain 10 in 3.14 Spain +12.4 random 1. ano3ther random random .1 ok that is the end\n",
    "Formal languages and automata theory theory course starts on 12/01/2020 Friday.\n",
    "It will end on 12.12.2021 email me at tevfik.aytekin@eng.bau.edu.tr\n",
    "john@gmail.com\n",
    "'''\n",
    "\n",
    "print(text)"
   ]
  },
  {
   "cell_type": "code",
   "execution_count": null,
   "metadata": {
    "id": "U2mFrA_vwUkC"
   },
   "outputs": [],
   "source": []
  },
  {
   "cell_type": "code",
   "execution_count": null,
   "metadata": {
    "id": "Ey42DL3HwUkC"
   },
   "outputs": [],
   "source": []
  },
  {
   "cell_type": "code",
   "execution_count": null,
   "metadata": {
    "colab": {
     "base_uri": "https://localhost:8080/"
    },
    "executionInfo": {
     "elapsed": 319,
     "status": "ok",
     "timestamp": 1680587033397,
     "user": {
      "displayName": "Tevfik Aytekin",
      "userId": "03705756795675396046"
     },
     "user_tz": -180
    },
    "id": "feS2v1XWwUkD",
    "outputId": "9458f9d8-3c51-4f5c-d619-b3f63bc93ba3"
   },
   "outputs": [
    {
     "data": {
      "text/plain": [
       "['10', '3', '14', '12', '4', '1', '1', '12', '01', '2020', '12', '12', '2021']"
      ]
     },
     "execution_count": 3,
     "metadata": {},
     "output_type": "execute_result"
    }
   ],
   "source": [
    "# Find all integers\n",
    "re.findall(\"\\d+\", text)"
   ]
  },
  {
   "cell_type": "code",
   "execution_count": null,
   "metadata": {
    "colab": {
     "base_uri": "https://localhost:8080/"
    },
    "executionInfo": {
     "elapsed": 4,
     "status": "ok",
     "timestamp": 1680587495093,
     "user": {
      "displayName": "Tevfik Aytekin",
      "userId": "03705756795675396046"
     },
     "user_tz": -180
    },
    "id": "JgfQnYkszfON",
    "outputId": "cee8a9d7-d40c-48ce-c164-4fb7746ab03b"
   },
   "outputs": [
    {
     "name": "stdout",
     "output_type": "stream",
     "text": [
      "['10', '3', '14', '12', '4', '1', '1', '12', '01', '2020', '12', '12', '2021']\n"
     ]
    }
   ],
   "source": [
    "x = re.findall(r\"[0-9]+\", text)\n",
    "print(x)"
   ]
  },
  {
   "cell_type": "code",
   "execution_count": null,
   "metadata": {
    "id": "_iniElQWwUkE"
   },
   "outputs": [],
   "source": [
    "# Find first integer\n",
    "m = re.search(\"\\d+\", text)"
   ]
  },
  {
   "cell_type": "code",
   "execution_count": null,
   "metadata": {
    "colab": {
     "base_uri": "https://localhost:8080/"
    },
    "executionInfo": {
     "elapsed": 5,
     "status": "ok",
     "timestamp": 1680587112395,
     "user": {
      "displayName": "Tevfik Aytekin",
      "userId": "03705756795675396046"
     },
     "user_tz": -180
    },
    "id": "f-zZti1AwUkF",
    "outputId": "08373d8b-7358-4486-bbd5-684e8b557362"
   },
   "outputs": [
    {
     "name": "stdout",
     "output_type": "stream",
     "text": [
      "10\n",
      "(9, 11)\n"
     ]
    }
   ],
   "source": [
    "print(m.group())\n",
    "print(m.span())"
   ]
  },
  {
   "cell_type": "code",
   "execution_count": null,
   "metadata": {
    "id": "Dcx-dy0xzd-Y"
   },
   "outputs": [],
   "source": []
  },
  {
   "cell_type": "code",
   "execution_count": null,
   "metadata": {
    "colab": {
     "base_uri": "https://localhost:8080/"
    },
    "executionInfo": {
     "elapsed": 327,
     "status": "ok",
     "timestamp": 1680587767302,
     "user": {
      "displayName": "Tevfik Aytekin",
      "userId": "03705756795675396046"
     },
     "user_tz": -180
    },
    "id": "jnqwkTwUwUkF",
    "outputId": "b23850f7-068c-4c7a-d4d6-b5692995e179"
   },
   "outputs": [
    {
     "data": {
      "text/plain": [
       "['3.14', '12.4', '.1', '12.12', '.2021']"
      ]
     },
     "execution_count": 20,
     "metadata": {},
     "output_type": "execute_result"
    }
   ],
   "source": [
    "# Find all floating point numbers\n",
    "re.findall(\"\\d*\\.\\d+\", text)"
   ]
  },
  {
   "cell_type": "code",
   "execution_count": null,
   "metadata": {
    "colab": {
     "base_uri": "https://localhost:8080/"
    },
    "executionInfo": {
     "elapsed": 4,
     "status": "ok",
     "timestamp": 1680587627502,
     "user": {
      "displayName": "Tevfik Aytekin",
      "userId": "03705756795675396046"
     },
     "user_tz": -180
    },
    "id": "pKMMEp7E0_fC",
    "outputId": "9f6e8be3-a7fe-4cf6-fe81-f6cecc5882e0"
   },
   "outputs": [
    {
     "name": "stdout",
     "output_type": "stream",
     "text": [
      "The rain 10 in 3.14 Spain +12.4 random 1. another random random .1 ok that is the end\n",
      "Formal languages and automata theory theory course starts on 12/01/2020 Friday.\n",
      "It will end on 12.12.2021 email me at tevfik.aytekin@eng.bau.edu.tr\n",
      "\n"
     ]
    }
   ],
   "source": [
    "print(text)"
   ]
  },
  {
   "cell_type": "code",
   "execution_count": null,
   "metadata": {
    "colab": {
     "base_uri": "https://localhost:8080/"
    },
    "executionInfo": {
     "elapsed": 319,
     "status": "ok",
     "timestamp": 1680587841658,
     "user": {
      "displayName": "Tevfik Aytekin",
      "userId": "03705756795675396046"
     },
     "user_tz": -180
    },
    "id": "7AbfD4zQwUkG",
    "outputId": "22bd0c7d-355a-4d8b-8345-1f4b3265a5b3"
   },
   "outputs": [
    {
     "name": "stdout",
     "output_type": "stream",
     "text": [
      "['e', 'd', 'e', 'd', 'd', 'e', 'e', 'd', 'e', 'd', 'e', 'e', 'c', 'e', 'd', 'e', 'd', 'e', 'e', 'e', 'f', 'e', 'e', 'e', 'd']\n"
     ]
    }
   ],
   "source": [
    "# Find all lower case characters alphabetically between \"c\" and \"f\":\n",
    "\n",
    "x = re.findall(\"(c|e|d|f)\", text)\n",
    "print(x)"
   ]
  },
  {
   "cell_type": "code",
   "execution_count": null,
   "metadata": {
    "colab": {
     "base_uri": "https://localhost:8080/"
    },
    "executionInfo": {
     "elapsed": 308,
     "status": "ok",
     "timestamp": 1680588047739,
     "user": {
      "displayName": "Tevfik Aytekin",
      "userId": "03705756795675396046"
     },
     "user_tz": -180
    },
    "id": "QKVQ6BkOwUkH",
    "outputId": "f4042fc3-97f1-4458-e4f0-2a1307f46136"
   },
   "outputs": [
    {
     "name": "stdout",
     "output_type": "stream",
     "text": [
      "['The', 'rain', 'in', 'Spain', 'random', 'ano', 'ther', 'random', 'random', 'ok', 'that', 'is', 'the', 'end', 'Formal', 'languages', 'and', 'automata', 'theory', 'theory', 'course', 'starts', 'on', 'Friday', 'It', 'will', 'end', 'on', 'email', 'me', 'at', 'tevfik', 'aytekin', 'eng', 'bau', 'edu', 'tr']\n"
     ]
    }
   ],
   "source": [
    "# Short form\n",
    "x = re.findall(\"[a-zA-Z]+\", text)\n",
    "print(x)"
   ]
  },
  {
   "cell_type": "code",
   "execution_count": null,
   "metadata": {
    "colab": {
     "base_uri": "https://localhost:8080/"
    },
    "executionInfo": {
     "elapsed": 496,
     "status": "ok",
     "timestamp": 1680588271078,
     "user": {
      "displayName": "Tevfik Aytekin",
      "userId": "03705756795675396046"
     },
     "user_tz": -180
    },
    "id": "HFJzIgvpwUkI",
    "outputId": "7063889d-24ec-4f89-c568-953fb0c5ba8f"
   },
   "outputs": [
    {
     "name": "stdout",
     "output_type": "stream",
     "text": [
      "['T', 'h', 'e', ' ', 'r', 'a', 'i', 'n', ' ', '1', '0', ' ', 'i', 'n', ' ', '3', '.', '1', '4', ' ', 'S', 'p', 'a', 'i', 'n', ' ', '+', '1', '2', '.', '4', ' ', 'r', 'a', 'n', 'd', 'o', 'm', ' ', '1', '.', ' ', 'a', 'n', 'o', '3', 't', 'h', 'e', 'r', ' ', 'r', 'a', 'n', 'd', 'o', 'm', ' ', 'r', 'a', 'n', 'd', 'o', 'm', ' ', '.', '1', ' ', 'o', 'k', ' ', 't', 'h', 'a', 't', ' ', 'i', 's', ' ', 't', 'h', 'e', ' ', 'e', 'n', 'd', 'F', 'o', 'r', 'm', 'a', 'l', ' ', 'l', 'a', 'n', 'g', 'u', 'a', 'g', 'e', 's', ' ', 'a', 'n', 'd', ' ', 'a', 'u', 't', 'o', 'm', 'a', 't', 'a', ' ', 't', 'h', 'e', 'o', 'r', 'y', ' ', 't', 'h', 'e', 'o', 'r', 'y', ' ', 'c', 'o', 'u', 'r', 's', 'e', ' ', 's', 't', 'a', 'r', 't', 's', ' ', 'o', 'n', ' ', '1', '2', '/', '0', '1', '/', '2', '0', '2', '0', ' ', 'F', 'r', 'i', 'd', 'a', 'y', '.', 'I', 't', ' ', 'w', 'i', 'l', 'l', ' ', 'e', 'n', 'd', ' ', 'o', 'n', ' ', '1', '2', '.', '1', '2', '.', '2', '0', '2', '1', ' ', 'e', 'm', 'a', 'i', 'l', ' ', 'm', 'e', ' ', 'a', 't', ' ', 't', 'e', 'v', 'f', 'i', 'k', '.', 'a', 'y', 't', 'e', 'k', 'i', 'n', '@', 'e', 'n', 'g', '.', 'b', 'a', 'u', '.', 'e', 'd', 'u', '.', 't', 'r']\n"
     ]
    }
   ],
   "source": [
    "# match any character\n",
    "x = re.findall(\".\", text)\n",
    "print(x)"
   ]
  },
  {
   "cell_type": "code",
   "execution_count": null,
   "metadata": {
    "colab": {
     "base_uri": "https://localhost:8080/"
    },
    "executionInfo": {
     "elapsed": 332,
     "status": "ok",
     "timestamp": 1680588330715,
     "user": {
      "displayName": "Tevfik Aytekin",
      "userId": "03705756795675396046"
     },
     "user_tz": -180
    },
    "id": "huqtGGupwUkJ",
    "outputId": "2dde2ace-b724-4290-d06e-91e980a9f055"
   },
   "outputs": [
    {
     "name": "stdout",
     "output_type": "stream",
     "text": [
      "['.', '.', '.', '.', '.', '.', '.', '.', '.', '.', '.']\n"
     ]
    }
   ],
   "source": [
    "# Escape character\n",
    "x = re.findall(\"\\.\", text)\n",
    "print(x)"
   ]
  },
  {
   "cell_type": "code",
   "execution_count": null,
   "metadata": {
    "id": "P410b4tbwUkJ",
    "outputId": "a3052d32-ba02-4845-86d8-759d7c72883f"
   },
   "outputs": [
    {
     "name": "stdout",
     "output_type": "stream",
     "text": [
      "['T']\n"
     ]
    }
   ],
   "source": [
    "# Match at the beginning\n",
    "x = re.findall(\"^T\", text)\n",
    "print(x)"
   ]
  },
  {
   "cell_type": "markdown",
   "metadata": {
    "id": "mNsSj6CG36qP"
   },
   "source": []
  },
  {
   "cell_type": "code",
   "execution_count": null,
   "metadata": {
    "colab": {
     "base_uri": "https://localhost:8080/",
     "height": 70
    },
    "executionInfo": {
     "elapsed": 1052,
     "status": "ok",
     "timestamp": 1680588393040,
     "user": {
      "displayName": "Tevfik Aytekin",
      "userId": "03705756795675396046"
     },
     "user_tz": -180
    },
    "id": "h2qMel1c35ID",
    "outputId": "cf67b5d4-1f0c-4743-aa31-3c32fde04883"
   },
   "outputs": [
    {
     "data": {
      "application/vnd.google.colaboratory.intrinsic+json": {
       "type": "string"
      },
      "text/plain": [
       "'The rain 10 in 3.14 Spain +12.4 random 1. ano3ther random random .1 ok that is the end\\nFormal languages and automata theory theory course starts on 12/01/2020 Friday.\\nIt will end on 12.12.2021 email me at tevfik.aytekin@eng.bau.edu.tr\\n'"
      ]
     },
     "execution_count": 31,
     "metadata": {},
     "output_type": "execute_result"
    }
   ],
   "source": [
    "text"
   ]
  },
  {
   "cell_type": "code",
   "execution_count": null,
   "metadata": {
    "colab": {
     "base_uri": "https://localhost:8080/"
    },
    "executionInfo": {
     "elapsed": 365,
     "status": "ok",
     "timestamp": 1680588706729,
     "user": {
      "displayName": "Tevfik Aytekin",
      "userId": "03705756795675396046"
     },
     "user_tz": -180
    },
    "id": "xhidAPrVwUkK",
    "outputId": "2ebb0f52-3840-43b6-d93c-000077c9a5a8"
   },
   "outputs": [
    {
     "name": "stdout",
     "output_type": "stream",
     "text": [
      "ain 10 in 3.14 Spain +12.4 random 1. ano3ther random random .1 ok tha\n",
      "(5, 74)\n"
     ]
    }
   ],
   "source": [
    "# Find the first match and return match object\n",
    "m = re.search(r\"a.+a\", text)\n",
    "print(m.group())\n",
    "print(m.span())"
   ]
  },
  {
   "cell_type": "code",
   "execution_count": null,
   "metadata": {
    "colab": {
     "base_uri": "https://localhost:8080/"
    },
    "executionInfo": {
     "elapsed": 390,
     "status": "ok",
     "timestamp": 1680588589386,
     "user": {
      "displayName": "Tevfik Aytekin",
      "userId": "03705756795675396046"
     },
     "user_tz": -180
    },
    "id": "RGOqpFUW4pGH",
    "outputId": "399cefcc-ff27-42d4-fd30-5f500c8efe5d"
   },
   "outputs": [
    {
     "data": {
      "text/plain": [
       "['ain 10 in 3.14 Spain +12.4 random 1. ano3ther random random .1 ok tha',\n",
       " 'al languages and automata theory theory course starts on 12/01/2020 Frida',\n",
       " 'ail me at tevfik.aytekin@eng.ba']"
      ]
     },
     "execution_count": 34,
     "metadata": {},
     "output_type": "execute_result"
    }
   ],
   "source": [
    "re.findall(r\"a.*a\", text)"
   ]
  },
  {
   "cell_type": "code",
   "execution_count": null,
   "metadata": {
    "colab": {
     "base_uri": "https://localhost:8080/"
    },
    "executionInfo": {
     "elapsed": 655,
     "status": "ok",
     "timestamp": 1680588870559,
     "user": {
      "displayName": "Tevfik Aytekin",
      "userId": "03705756795675396046"
     },
     "user_tz": -180
    },
    "id": "wOiUrVB7wUkL",
    "outputId": "e5fd8ada-b632-4e05-e23f-103e193bab81"
   },
   "outputs": [
    {
     "name": "stdout",
     "output_type": "stream",
     "text": [
      "['10', '3', '14', '12', '4', '1', '3', '1', '12', '01', '2020', '12', '12', '2021']\n"
     ]
    }
   ],
   "source": [
    "#search a number in text\n",
    "x = re.findall(\"[0-9]+\", text)\n",
    "print(x)"
   ]
  },
  {
   "cell_type": "code",
   "execution_count": null,
   "metadata": {
    "colab": {
     "base_uri": "https://localhost:8080/"
    },
    "executionInfo": {
     "elapsed": 4,
     "status": "ok",
     "timestamp": 1680588871856,
     "user": {
      "displayName": "Tevfik Aytekin",
      "userId": "03705756795675396046"
     },
     "user_tz": -180
    },
    "id": "enJxKjxSwUkL",
    "outputId": "10bb789a-0dd9-48d3-8c8e-87217a2fa9e7"
   },
   "outputs": [
    {
     "name": "stdout",
     "output_type": "stream",
     "text": [
      "['10', '3', '14', '12', '4', '1', '3', '1', '12', '01', '2020', '12', '12', '2021']\n"
     ]
    }
   ],
   "source": [
    "x = re.findall(\"\\d+\", text)\n",
    "print(x)"
   ]
  },
  {
   "cell_type": "code",
   "execution_count": null,
   "metadata": {
    "colab": {
     "base_uri": "https://localhost:8080/"
    },
    "executionInfo": {
     "elapsed": 713,
     "status": "ok",
     "timestamp": 1680590255371,
     "user": {
      "displayName": "Tevfik Aytekin",
      "userId": "03705756795675396046"
     },
     "user_tz": -180
    },
    "id": "XnwxeSDMwUkM",
    "outputId": "db9c6010-f090-485e-ab8a-e759c8837006"
   },
   "outputs": [
    {
     "name": "stdout",
     "output_type": "stream",
     "text": [
      "['10', '3.14', '+12.4', '1', '3', '.1', '12', '01', '2020', '12.12', '.2021']\n"
     ]
    }
   ],
   "source": [
    "#search a decimal number in text\n",
    "x = re.findall(r\"[-+]?[0-9]*\\.?[0-9]+\", text)\n",
    "print(x)"
   ]
  },
  {
   "cell_type": "code",
   "execution_count": null,
   "metadata": {
    "id": "n0ZoE_eKwUkM",
    "outputId": "6c486ff7-8cc9-4558-86a1-8806d4fea0b6"
   },
   "outputs": [
    {
     "name": "stdout",
     "output_type": "stream",
     "text": [
      "The rain 10 in 3.14 Spain +12.4 random 1. another random random .1 ok that is the end\n",
      "Formal languages and automata theory theory course starts on 12/01/2020 Friday.\n",
      "It will end on 12.12.2021 email me at tevfik.aytekin@eng.bau.edu.tr\n",
      "\n"
     ]
    }
   ],
   "source": [
    "print(text)"
   ]
  },
  {
   "cell_type": "code",
   "execution_count": null,
   "metadata": {
    "colab": {
     "base_uri": "https://localhost:8080/"
    },
    "executionInfo": {
     "elapsed": 429,
     "status": "ok",
     "timestamp": 1680590541387,
     "user": {
      "displayName": "Tevfik Aytekin",
      "userId": "03705756795675396046"
     },
     "user_tz": -180
    },
    "id": "zhxCQ6VswUkN",
    "outputId": "a06ce40c-9b90-4068-f17e-07d517fc31c2"
   },
   "outputs": [
    {
     "name": "stdout",
     "output_type": "stream",
     "text": [
      "['random', 'theory']\n"
     ]
    }
   ],
   "source": [
    "#repeated words\n",
    "x = re.findall(r'\\b(\\w+)\\b\\s+\\1', text)\n",
    "print(x)"
   ]
  },
  {
   "cell_type": "code",
   "execution_count": null,
   "metadata": {
    "colab": {
     "base_uri": "https://localhost:8080/"
    },
    "executionInfo": {
     "elapsed": 324,
     "status": "ok",
     "timestamp": 1680590841607,
     "user": {
      "displayName": "Tevfik Aytekin",
      "userId": "03705756795675396046"
     },
     "user_tz": -180
    },
    "id": "8pdqARkbwUkN",
    "outputId": "2eae22ac-4303-48b6-9d7e-db39ad402037"
   },
   "outputs": [
    {
     "name": "stdout",
     "output_type": "stream",
     "text": [
      "['ain', 'ain', 'andom', 'ano', 'andom', 'andom', 'at', 'al', 'anguages', 'and', 'automata', 'arts', 'ay', 'ail', 'at', 'aytekin', 'au']\n"
     ]
    }
   ],
   "source": [
    "# words starting with a\n",
    "x = re.findall('a[a-zA-Z]+',text)\n",
    "print(x)"
   ]
  },
  {
   "cell_type": "code",
   "execution_count": null,
   "metadata": {
    "colab": {
     "base_uri": "https://localhost:8080/"
    },
    "executionInfo": {
     "elapsed": 3,
     "status": "ok",
     "timestamp": 1680590843643,
     "user": {
      "displayName": "Tevfik Aytekin",
      "userId": "03705756795675396046"
     },
     "user_tz": -180
    },
    "id": "34UW_WtnwUkN",
    "outputId": "2d8df808-48f3-45ab-c6d1-27916aec3f66"
   },
   "outputs": [
    {
     "name": "stdout",
     "output_type": "stream",
     "text": [
      "['ain', 'ain', 'andom', 'ano3ther', 'andom', 'andom', 'at', 'al', 'anguages', 'and', 'automata', 'arts', 'ay', 'ail', 'at', 'aytekin', 'au']\n"
     ]
    }
   ],
   "source": [
    "x = re.findall(\"a\\w+\",text)\n",
    "print(x)"
   ]
  },
  {
   "cell_type": "code",
   "execution_count": null,
   "metadata": {
    "colab": {
     "base_uri": "https://localhost:8080/"
    },
    "executionInfo": {
     "elapsed": 503,
     "status": "ok",
     "timestamp": 1680590943826,
     "user": {
      "displayName": "Tevfik Aytekin",
      "userId": "03705756795675396046"
     },
     "user_tz": -180
    },
    "id": "muCh1QclwUkO",
    "outputId": "605db1e9-f762-4403-ca05-9f4150dbf704"
   },
   "outputs": [
    {
     "name": "stdout",
     "output_type": "stream",
     "text": [
      "['12/01/2020']\n"
     ]
    }
   ],
   "source": [
    "# Dates in the format DD/MM/YYYY\n",
    "x = re.findall('\\d\\d/\\d\\d/\\d\\d\\d\\d',text)\n",
    "print(x)"
   ]
  },
  {
   "cell_type": "code",
   "execution_count": null,
   "metadata": {
    "colab": {
     "base_uri": "https://localhost:8080/"
    },
    "executionInfo": {
     "elapsed": 466,
     "status": "ok",
     "timestamp": 1680590984993,
     "user": {
      "displayName": "Tevfik Aytekin",
      "userId": "03705756795675396046"
     },
     "user_tz": -180
    },
    "id": "QYRsLvyswUkO",
    "outputId": "927861a4-3878-45af-d426-6e483527500d"
   },
   "outputs": [
    {
     "name": "stdout",
     "output_type": "stream",
     "text": [
      "['12/01/2020']\n"
     ]
    }
   ],
   "source": [
    "x = re.findall(r\"\\d{2}/\\d{2}/\\d{4}\",text)\n",
    "print(x)"
   ]
  },
  {
   "cell_type": "code",
   "execution_count": null,
   "metadata": {
    "colab": {
     "base_uri": "https://localhost:8080/"
    },
    "executionInfo": {
     "elapsed": 321,
     "status": "ok",
     "timestamp": 1680591219822,
     "user": {
      "displayName": "Tevfik Aytekin",
      "userId": "03705756795675396046"
     },
     "user_tz": -180
    },
    "id": "ywQDYZ5dwUkO",
    "outputId": "009e6d1e-ab6b-4214-96ef-2170734347c4"
   },
   "outputs": [
    {
     "name": "stdout",
     "output_type": "stream",
     "text": [
      "['tevfik.aytekin@eng.bau.edu.tr', 'john@gmail.com']\n"
     ]
    }
   ],
   "source": [
    "# Match an email address\n",
    "x = re.findall(r\"\\b[A-Za-z0-9._%+-]+@[A-Za-z0-9.-]+\\.[A-Z|a-z]{2,}\\b\",text)\n",
    "print(x)"
   ]
  },
  {
   "cell_type": "code",
   "execution_count": null,
   "metadata": {
    "id": "8rbDsBBWwUkP"
   },
   "outputs": [],
   "source": []
  }
 ],
 "metadata": {
  "colab": {
   "provenance": []
  },
  "kernelspec": {
   "display_name": "Python 3 (ipykernel)",
   "language": "python",
   "name": "python3"
  },
  "language_info": {
   "codemirror_mode": {
    "name": "ipython",
    "version": 3
   },
   "file_extension": ".py",
   "mimetype": "text/x-python",
   "name": "python",
   "nbconvert_exporter": "python",
   "pygments_lexer": "ipython3",
   "version": "3.7.7"
  }
 },
 "nbformat": 4,
 "nbformat_minor": 1
}
