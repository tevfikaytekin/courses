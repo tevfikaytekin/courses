{
 "cells": [
  {
   "cell_type": "code",
   "execution_count": 1,
   "id": "2bb59e2a",
   "metadata": {
    "executionInfo": {
     "elapsed": 6,
     "status": "ok",
     "timestamp": 1680591480400,
     "user": {
      "displayName": "Tevfik Aytekin",
      "userId": "03705756795675396046"
     },
     "user_tz": -180
    },
    "id": "2bb59e2a"
   },
   "outputs": [],
   "source": [
    "import sys\n",
    "import re\n",
    "\n",
    "def lex(characters, token_exprs):\n",
    "    pos = 0\n",
    "    tokens = []\n",
    "    while pos < len(characters):\n",
    "        match = None\n",
    "        for token_expr in token_exprs:\n",
    "            pattern, tag = token_expr\n",
    "            regex = re.compile(pattern)\n",
    "            match = regex.match(characters, pos)\n",
    "            if match:\n",
    "                text = match.group(0)\n",
    "                if tag:\n",
    "                    token = (text, tag)\n",
    "                    tokens.append(token)\n",
    "                break\n",
    "        if not match:\n",
    "            sys.stderr.write('Illegal character: %s\\\\n' % characters[pos])\n",
    "            sys.exit(1)\n",
    "        else:\n",
    "            pos = match.end(0)\n",
    "    return tokens"
   ]
  },
  {
   "cell_type": "code",
   "execution_count": 2,
   "id": "88de7fda",
   "metadata": {
    "executionInfo": {
     "elapsed": 3,
     "status": "ok",
     "timestamp": 1680591484463,
     "user": {
      "displayName": "Tevfik Aytekin",
      "userId": "03705756795675396046"
     },
     "user_tz": -180
    },
    "id": "88de7fda"
   },
   "outputs": [],
   "source": [
    "RESERVED = 'RESERVED'\n",
    "INT      = 'INT'\n",
    "ID       = 'ID'"
   ]
  },
  {
   "cell_type": "code",
   "execution_count": 3,
   "id": "79f53bc1",
   "metadata": {
    "executionInfo": {
     "elapsed": 4,
     "status": "ok",
     "timestamp": 1680591484464,
     "user": {
      "displayName": "Tevfik Aytekin",
      "userId": "03705756795675396046"
     },
     "user_tz": -180
    },
    "id": "79f53bc1"
   },
   "outputs": [],
   "source": [
    "token_exprs = [\n",
    "    (r'[ \\n\\t]+',              None),\n",
    "    (r'#[^\\n]*',               None),\n",
    "    (r'\\:=',                   RESERVED),\n",
    "    (r'\\(',                    RESERVED),\n",
    "    (r'\\)',                    RESERVED),\n",
    "    (r';',                     RESERVED),\n",
    "    (r'\\+',                    RESERVED),\n",
    "    (r'-',                     RESERVED),\n",
    "    (r'\\*',                    RESERVED),\n",
    "    (r'/',                     RESERVED),\n",
    "    (r'<=',                    RESERVED),\n",
    "    (r'<',                     RESERVED),\n",
    "    (r'>=',                    RESERVED),\n",
    "    (r'>',                     RESERVED),\n",
    "    (r'=',                     RESERVED),\n",
    "    (r'!=',                    RESERVED),\n",
    "    (r'and',                   RESERVED),\n",
    "    (r'or',                    RESERVED),\n",
    "    (r'not',                   RESERVED),\n",
    "    (r'if',                    RESERVED),\n",
    "    (r'then',                  RESERVED),\n",
    "    (r'else',                  RESERVED),\n",
    "    (r'while',                 RESERVED),\n",
    "    (r'do',                    RESERVED),\n",
    "    (r'end',                   RESERVED),\n",
    "    (r'[0-9]+',                INT),\n",
    "    (r'[A-Za-z][A-Za-z0-9_]*', ID),\n",
    "]"
   ]
  },
  {
   "cell_type": "code",
   "execution_count": 4,
   "id": "c0c51515",
   "metadata": {
    "executionInfo": {
     "elapsed": 3,
     "status": "ok",
     "timestamp": 1680591486563,
     "user": {
      "displayName": "Tevfik Aytekin",
      "userId": "03705756795675396046"
     },
     "user_tz": -180
    },
    "id": "c0c51515"
   },
   "outputs": [],
   "source": [
    "def imp_lex(characters):\n",
    "    return lex(characters, token_exprs)"
   ]
  },
  {
   "cell_type": "code",
   "execution_count": 5,
   "id": "c3da634f",
   "metadata": {
    "executionInfo": {
     "elapsed": 6,
     "status": "ok",
     "timestamp": 1680591488883,
     "user": {
      "displayName": "Tevfik Aytekin",
      "userId": "03705756795675396046"
     },
     "user_tz": -180
    },
    "id": "c3da634f"
   },
   "outputs": [],
   "source": [
    "program = '''\n",
    "n := 1570;\n",
    "p := 1;\n",
    "while n > 0 do\n",
    "  p := p * n;\n",
    "  n := n - 1\n",
    "end\n",
    "'''"
   ]
  },
  {
   "cell_type": "code",
   "execution_count": 6,
   "id": "e42ae5f8",
   "metadata": {
    "colab": {
     "base_uri": "https://localhost:8080/"
    },
    "executionInfo": {
     "elapsed": 5,
     "status": "ok",
     "timestamp": 1680591490111,
     "user": {
      "displayName": "Tevfik Aytekin",
      "userId": "03705756795675396046"
     },
     "user_tz": -180
    },
    "id": "e42ae5f8",
    "outputId": "9ca8fef2-225e-4cdb-9505-c482474225f2"
   },
   "outputs": [
    {
     "name": "stdout",
     "output_type": "stream",
     "text": [
      "('n', 'ID')\n",
      "(':=', 'RESERVED')\n",
      "('1570', 'INT')\n",
      "(';', 'RESERVED')\n",
      "('p', 'ID')\n",
      "(':=', 'RESERVED')\n",
      "('1', 'INT')\n",
      "(';', 'RESERVED')\n",
      "('while', 'RESERVED')\n",
      "('n', 'ID')\n",
      "('>', 'RESERVED')\n",
      "('0', 'INT')\n",
      "('do', 'RESERVED')\n",
      "('p', 'ID')\n",
      "(':=', 'RESERVED')\n",
      "('p', 'ID')\n",
      "('*', 'RESERVED')\n",
      "('n', 'ID')\n",
      "(';', 'RESERVED')\n",
      "('n', 'ID')\n",
      "(':=', 'RESERVED')\n",
      "('n', 'ID')\n",
      "('-', 'RESERVED')\n",
      "('1', 'INT')\n",
      "('end', 'RESERVED')\n"
     ]
    }
   ],
   "source": [
    "tokens = imp_lex(program)\n",
    "for token in tokens:\n",
    "    print (token)"
   ]
  },
  {
   "cell_type": "code",
   "execution_count": null,
   "id": "adc92f8c",
   "metadata": {
    "id": "adc92f8c"
   },
   "outputs": [],
   "source": []
  }
 ],
 "metadata": {
  "colab": {
   "provenance": []
  },
  "kernelspec": {
   "display_name": "Python 3 (ipykernel)",
   "language": "python",
   "name": "python3"
  },
  "language_info": {
   "codemirror_mode": {
    "name": "ipython",
    "version": 3
   },
   "file_extension": ".py",
   "mimetype": "text/x-python",
   "name": "python",
   "nbconvert_exporter": "python",
   "pygments_lexer": "ipython3",
   "version": "3.7.7"
  }
 },
 "nbformat": 4,
 "nbformat_minor": 5
}
